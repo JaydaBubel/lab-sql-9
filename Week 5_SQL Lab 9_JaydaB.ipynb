{
 "cells": [
  {
   "cell_type": "code",
   "execution_count": 1,
   "id": "553be8f5",
   "metadata": {},
   "outputs": [
    {
     "name": "stdout",
     "output_type": "stream",
     "text": [
      "Requirement already satisfied: sqlalchemy in ./anaconda3/lib/python3.10/site-packages (1.4.39)\n",
      "Requirement already satisfied: greenlet!=0.4.17 in ./anaconda3/lib/python3.10/site-packages (from sqlalchemy) (2.0.1)\n",
      "Requirement already satisfied: PyMySQL in ./anaconda3/lib/python3.10/site-packages (1.0.3)\n"
     ]
    }
   ],
   "source": [
    "# install necessary libraries\n",
    "! pip install sqlalchemy # ==1.4.46\n",
    "! pip install PyMySQL"
   ]
  },
  {
   "cell_type": "code",
   "execution_count": 2,
   "id": "fcfe1147",
   "metadata": {},
   "outputs": [
    {
     "name": "stdout",
     "output_type": "stream",
     "text": [
      "········\n"
     ]
    }
   ],
   "source": [
    "import pymysql\n",
    "from sqlalchemy import create_engine\n",
    "import pandas as pd\n",
    "import getpass  # to get the password without showing the input\n",
    "password = getpass.getpass() # insert your password below after executing this cell"
   ]
  },
  {
   "cell_type": "code",
   "execution_count": 3,
   "id": "95677ec0",
   "metadata": {},
   "outputs": [],
   "source": [
    "# make the connection with the database\n",
    "connection_string = 'mysql+pymysql://root:' + password + '@localhost/sakila' # database_location/database_name\n",
    "engine = create_engine(connection_string)"
   ]
  },
  {
   "cell_type": "code",
   "execution_count": null,
   "id": "df7b7ea0",
   "metadata": {},
   "outputs": [],
   "source": [
    "data = pd.read_sql_query('SELECT * FROM loan', engine)\n",
    "data.head()"
   ]
  },
  {
   "cell_type": "code",
   "execution_count": 13,
   "id": "de14bc56",
   "metadata": {},
   "outputs": [],
   "source": [
    "# Create a Python connection with SQL database and retrieve the results of the last two queries \n",
    "\n",
    "query1 = '''\n",
    "SELECT c.customer_id, CONCAT(c.first_name, ' ', c.last_name) AS customer_name, COUNT(*) AS rental_count\n",
    "FROM customer c\n",
    "JOIN rental r ON c.customer_id = r.customer_id\n",
    "WHERE MONTH(r.rental_date) = 5\n",
    "GROUP BY c.customer_id, customer_name\n",
    "'''\n",
    "\n",
    "query2 = '''\n",
    "SELECT c.customer_id, CONCAT(c.first_name, ' ', c.last_name) AS customer_name, COUNT(*) AS rental_count\n",
    "FROM customer c\n",
    "JOIN rental r ON c.customer_id = r.customer_id\n",
    "WHERE MONTH(r.rental_date) = 6\n",
    "GROUP BY c.customer_id, customer_name\n",
    "'''"
   ]
  },
  {
   "cell_type": "code",
   "execution_count": 14,
   "id": "bd8b20a4",
   "metadata": {},
   "outputs": [],
   "source": [
    "df_may = pd.read_sql_query(query1, engine)\n",
    "df_june = pd.read_sql_query(query2, engine)"
   ]
  },
  {
   "cell_type": "code",
   "execution_count": 8,
   "id": "0571409a",
   "metadata": {},
   "outputs": [
    {
     "name": "stdout",
     "output_type": "stream",
     "text": [
      "Result of Query 1 (May):\n",
      "     customer_id       customer_name  rental_count\n",
      "0              1          MARY SMITH             2\n",
      "1              2    PATRICIA JOHNSON             1\n",
      "2              3      LINDA WILLIAMS             2\n",
      "3              5     ELIZABETH BROWN             3\n",
      "4              6      JENNIFER DAVIS             3\n",
      "..           ...                 ...           ...\n",
      "515          594       EDUARDO HIATT             4\n",
      "516          595  TERRENCE GUNDERSON             1\n",
      "517          596    ENRIQUE FORSYTHE             6\n",
      "518          597      FREDDIE DUGGAN             2\n",
      "519          599      AUSTIN CINTRON             1\n",
      "\n",
      "[520 rows x 3 columns]\n"
     ]
    }
   ],
   "source": [
    "# Check the number of rentals for each customer for May \n",
    "\n",
    "print(\"Result of Query 1 (May):\")\n",
    "print(df_may)"
   ]
  },
  {
   "cell_type": "code",
   "execution_count": 9,
   "id": "a604af80",
   "metadata": {},
   "outputs": [
    {
     "name": "stdout",
     "output_type": "stream",
     "text": [
      "Result of Query 2 (June):\n",
      "     customer_id       customer_name  rental_count\n",
      "0              1          MARY SMITH             7\n",
      "1              2    PATRICIA JOHNSON             1\n",
      "2              3      LINDA WILLIAMS             4\n",
      "3              4       BARBARA JONES             6\n",
      "4              5     ELIZABETH BROWN             5\n",
      "..           ...                 ...           ...\n",
      "585          595  TERRENCE GUNDERSON             2\n",
      "586          596    ENRIQUE FORSYTHE             2\n",
      "587          597      FREDDIE DUGGAN             3\n",
      "588          598       WADE DELVALLE             1\n",
      "589          599      AUSTIN CINTRON             4\n",
      "\n",
      "[590 rows x 3 columns]\n"
     ]
    }
   ],
   "source": [
    "# Check the number of rentals for each customer for June\n",
    "\n",
    "print(\"Result of Query 2 (June):\")\n",
    "print(df_june)"
   ]
  },
  {
   "cell_type": "code",
   "execution_count": 26,
   "id": "78f66aeb",
   "metadata": {
    "scrolled": true
   },
   "outputs": [
    {
     "name": "stdout",
     "output_type": "stream",
     "text": [
      "Customer number 123 borrowed more films in June than May.\n"
     ]
    }
   ],
   "source": [
    "# Write function that checks if customer borrowed more or less films in the month of June as compared to May\n",
    "\n",
    "def compared_rental_count(df_may, df_june, customer_id):\n",
    "\n",
    "# merge the DFs on customer_id\n",
    "    merged_df = pd.merge(df_may, df_june, on='customer_id', suffixes=('_may', '_june'))\n",
    "\n",
    "# filter the merged DF for specific customer\n",
    "    customer_df = merged_df[merged_df['customer_id'] == customer_id]\n",
    "    \n",
    "# get rental counts for may/june\n",
    "    rental_count_may = customer_df['rental_count_may'].iloc[0]\n",
    "    rental_count_june = customer_df['rental_count_june'].iloc[0]\n",
    "    \n",
    "# compare rental results, if/else\n",
    "    if rental_count_june > rental_count_may:\n",
    "        result = f\"Customer number {customer_id} borrowed more films in June than May.\"\n",
    "    elif rental_count_june < rental_count_may:\n",
    "        result = f\"Customer number {customer_id} borrowed fewer films in June than May.\"\n",
    "    else:\n",
    "        result = f\"Customer number {customer_id} borrowed the same number of films in June and May.\"\n",
    "    return result\n",
    "\n",
    "# example of customer with ID number 123:\n",
    "customer_id = 123 \n",
    "result = compared_rental_count(df_may, df_june, customer_id)\n",
    "print(result)"
   ]
  },
  {
   "cell_type": "code",
   "execution_count": null,
   "id": "0ae5124d",
   "metadata": {},
   "outputs": [],
   "source": []
  }
 ],
 "metadata": {
  "kernelspec": {
   "display_name": "Python 3 (ipykernel)",
   "language": "python",
   "name": "python3"
  },
  "language_info": {
   "codemirror_mode": {
    "name": "ipython",
    "version": 3
   },
   "file_extension": ".py",
   "mimetype": "text/x-python",
   "name": "python",
   "nbconvert_exporter": "python",
   "pygments_lexer": "ipython3",
   "version": "3.10.9"
  }
 },
 "nbformat": 4,
 "nbformat_minor": 5
}
